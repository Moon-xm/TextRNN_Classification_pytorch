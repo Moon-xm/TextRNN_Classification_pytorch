{
  "nbformat": 4,
  "nbformat_minor": 0,
  "metadata": {
    "colab": {
      "name": "TextRNN.ipynb",
      "provenance": [],
      "authorship_tag": "ABX9TyMWfvTvKVZfj0RMtph/XAgj",
      "include_colab_link": true
    },
    "kernelspec": {
      "name": "python3",
      "display_name": "Python 3"
    },
    "accelerator": "GPU"
  },
  "cells": [
    {
      "cell_type": "markdown",
      "metadata": {
        "id": "view-in-github",
        "colab_type": "text"
      },
      "source": [
        "<a href=\"https://colab.research.google.com/github/Moon-xm/TextRNN_Classification_pytorch/blob/master/TextRNN.ipynb\" target=\"_parent\"><img src=\"https://colab.research.google.com/assets/colab-badge.svg\" alt=\"Open In Colab\"/></a>"
      ]
    },
    {
      "cell_type": "code",
      "metadata": {
        "colab": {
          "base_uri": "https://localhost:8080/"
        },
        "id": "55SYCimayLQq",
        "outputId": "88ff10dc-d09e-431e-8436-370b1d6f27e3"
      },
      "source": [
        "from google.colab import drive\r\n",
        "drive.mount(\"/content/dirve\")"
      ],
      "execution_count": 1,
      "outputs": [
        {
          "output_type": "stream",
          "text": [
            "Mounted at /content/dirve\n"
          ],
          "name": "stdout"
        }
      ]
    },
    {
      "cell_type": "code",
      "metadata": {
        "colab": {
          "base_uri": "https://localhost:8080/"
        },
        "id": "jIP0aszTyZFQ",
        "outputId": "be147657-95ec-484f-c866-939cdfd01aa5"
      },
      "source": [
        "cd /content/dirve/Shareddrives/xm/TextRNN_Classification_pytorch"
      ],
      "execution_count": 2,
      "outputs": [
        {
          "output_type": "stream",
          "text": [
            "/content/dirve/Shareddrives/xm/TextRNN_Classification_pytorch\n"
          ],
          "name": "stdout"
        }
      ]
    },
    {
      "cell_type": "code",
      "metadata": {
        "colab": {
          "base_uri": "https://localhost:8080/"
        },
        "id": "IdEgh4K1yrE3",
        "outputId": "763ca41d-f953-4715-e287-d02340e312bd"
      },
      "source": [
        "!python3 run.py"
      ],
      "execution_count": 3,
      "outputs": [
        {
          "output_type": "stream",
          "text": [
            "Loading data...\n",
            "180000it [00:01, 104286.01it/s]\n",
            "Vocab size: 4762\n",
            "180000it [00:02, 77912.49it/s]\n",
            "10000it [00:00, 18672.71it/s]\n",
            "10000it [00:00, 24334.78it/s]\n",
            "Loading model...\n",
            "Model(\n",
            "  (embedding): Embedding(4762, 300)\n",
            "  (rnn): LSTM(300, 300, num_layers=2, batch_first=True, bidirectional=True)\n",
            "  (fc): Linear(in_features=600, out_features=10, bias=True)\n",
            ")\n",
            "Training and evaluating on cuda:0...\n",
            "Epoch [1/40]\n",
            "Iter:    100, Train loss:  0.73, Train acc: 77.34%, dev loss:  0.74, dev acc: 75.33%, Time: 0:00:05 *\n",
            "Iter:    200, Train loss:  0.63, Train acc: 79.69%, dev loss:  0.62, dev acc: 79.80%, Time: 0:00:09 *\n",
            "Iter:    300, Train loss:  0.45, Train acc: 83.59%, dev loss:  0.54, dev acc: 82.52%, Time: 0:00:14 *\n",
            "Iter:    400, Train loss:  0.62, Train acc: 83.59%, dev loss:   0.5, dev acc: 83.75%, Time: 0:00:18 *\n",
            "Iter:    500, Train loss:  0.48, Train acc: 82.81%, dev loss:  0.46, dev acc: 85.49%, Time: 0:00:23 *\n",
            "Iter:    600, Train loss:  0.34, Train acc: 89.06%, dev loss:  0.42, dev acc: 86.87%, Time: 0:00:27 *\n",
            "Iter:    700, Train loss:  0.48, Train acc: 83.59%, dev loss:  0.42, dev acc: 86.47%, Time: 0:00:32 \n",
            "Iter:    800, Train loss:  0.34, Train acc: 89.06%, dev loss:  0.38, dev acc: 87.82%, Time: 0:00:36 *\n",
            "Iter:    900, Train loss:  0.45, Train acc: 85.16%, dev loss:  0.38, dev acc: 87.93%, Time: 0:00:41 *\n",
            "Iter:   1000, Train loss:  0.37, Train acc: 86.72%, dev loss:  0.36, dev acc: 88.18%, Time: 0:00:46 *\n",
            "Iter:   1100, Train loss:  0.23, Train acc: 93.75%, dev loss:  0.35, dev acc: 88.53%, Time: 0:00:51 *\n",
            "Iter:   1200, Train loss:  0.48, Train acc: 82.81%, dev loss:  0.36, dev acc: 88.13%, Time: 0:00:55 \n",
            "Iter:   1300, Train loss:  0.26, Train acc: 89.84%, dev loss:  0.34, dev acc: 88.85%, Time: 0:01:00 *\n",
            "Iter:   1400, Train loss:  0.39, Train acc: 87.50%, dev loss:  0.33, dev acc: 89.32%, Time: 0:01:05 *\n",
            "Epoch [2/40]\n",
            "Iter:    100, Train loss:  0.34, Train acc: 87.50%, dev loss:  0.32, dev acc: 89.83%, Time: 0:01:10 *\n",
            "Iter:    200, Train loss:  0.18, Train acc: 94.53%, dev loss:  0.33, dev acc: 89.43%, Time: 0:01:15 \n",
            "Iter:    300, Train loss:  0.21, Train acc: 93.75%, dev loss:  0.32, dev acc: 89.82%, Time: 0:01:20 \n",
            "Iter:    400, Train loss:  0.34, Train acc: 87.50%, dev loss:  0.32, dev acc: 89.91%, Time: 0:01:25 *\n",
            "Iter:    500, Train loss:   0.2, Train acc: 92.19%, dev loss:  0.31, dev acc: 89.93%, Time: 0:01:31 *\n",
            "Iter:    600, Train loss:   0.3, Train acc: 89.84%, dev loss:  0.32, dev acc: 89.88%, Time: 0:01:36 \n",
            "Iter:    700, Train loss:  0.29, Train acc: 87.50%, dev loss:  0.31, dev acc: 90.05%, Time: 0:01:41 *\n",
            "Iter:    800, Train loss:  0.26, Train acc: 89.84%, dev loss:  0.31, dev acc: 89.65%, Time: 0:01:46 \n",
            "Iter:    900, Train loss:  0.22, Train acc: 94.53%, dev loss:  0.31, dev acc: 90.21%, Time: 0:01:51 *\n",
            "Iter:   1000, Train loss:  0.18, Train acc: 93.75%, dev loss:   0.3, dev acc: 90.11%, Time: 0:01:56 \n",
            "Iter:   1100, Train loss:  0.21, Train acc: 93.75%, dev loss:   0.3, dev acc: 90.44%, Time: 0:02:01 *\n",
            "Iter:   1200, Train loss:  0.29, Train acc: 90.62%, dev loss:  0.29, dev acc: 90.52%, Time: 0:02:06 *\n",
            "Iter:   1300, Train loss:  0.31, Train acc: 90.62%, dev loss:  0.29, dev acc: 90.53%, Time: 0:02:11 *\n",
            "Iter:   1400, Train loss:  0.28, Train acc: 92.19%, dev loss:  0.29, dev acc: 90.83%, Time: 0:02:16 *\n",
            "Epoch [3/40]\n",
            "Iter:    100, Train loss:  0.16, Train acc: 92.97%, dev loss:  0.28, dev acc: 91.11%, Time: 0:02:21 *\n",
            "Iter:    200, Train loss:  0.11, Train acc: 96.88%, dev loss:   0.3, dev acc: 90.87%, Time: 0:02:26 \n",
            "Iter:    300, Train loss:  0.26, Train acc: 90.62%, dev loss:   0.3, dev acc: 90.44%, Time: 0:02:31 \n",
            "Iter:    400, Train loss:  0.24, Train acc: 94.53%, dev loss:  0.29, dev acc: 91.17%, Time: 0:02:36 *\n",
            "Iter:    500, Train loss:  0.25, Train acc: 94.53%, dev loss:  0.29, dev acc: 90.91%, Time: 0:02:40 \n",
            "Iter:    600, Train loss:   0.2, Train acc: 93.75%, dev loss:   0.3, dev acc: 90.91%, Time: 0:02:45 \n",
            "Iter:    700, Train loss:  0.19, Train acc: 92.97%, dev loss:  0.28, dev acc: 91.02%, Time: 0:02:50 \n",
            "Iter:    800, Train loss:  0.18, Train acc: 96.88%, dev loss:  0.29, dev acc: 90.90%, Time: 0:02:55 \n",
            "Iter:    900, Train loss:  0.26, Train acc: 92.19%, dev loss:  0.28, dev acc: 90.96%, Time: 0:03:00 \n",
            "Iter:   1000, Train loss:  0.27, Train acc: 89.06%, dev loss:  0.29, dev acc: 90.79%, Time: 0:03:05 \n",
            "Iter:   1100, Train loss:  0.28, Train acc: 91.41%, dev loss:  0.29, dev acc: 91.02%, Time: 0:03:10 \n",
            "Iter:   1200, Train loss:  0.17, Train acc: 92.97%, dev loss:  0.29, dev acc: 90.85%, Time: 0:03:15 \n",
            "Iter:   1300, Train loss:   0.2, Train acc: 95.31%, dev loss:  0.27, dev acc: 91.09%, Time: 0:03:20 \n",
            "Iter:   1400, Train loss:  0.12, Train acc: 96.09%, dev loss:  0.27, dev acc: 91.07%, Time: 0:03:25 \n",
            "Epoch [4/40]\n",
            "Iter:    100, Train loss: 0.098, Train acc: 96.09%, dev loss:  0.27, dev acc: 91.51%, Time: 0:03:30 *\n",
            "Iter:    200, Train loss:   0.2, Train acc: 94.53%, dev loss:  0.28, dev acc: 91.28%, Time: 0:03:35 \n",
            "Iter:    300, Train loss:  0.27, Train acc: 89.06%, dev loss:  0.28, dev acc: 91.52%, Time: 0:03:40 *\n",
            "Iter:    400, Train loss:   0.1, Train acc: 96.88%, dev loss:  0.28, dev acc: 91.51%, Time: 0:03:45 \n",
            "Iter:    500, Train loss:  0.12, Train acc: 95.31%, dev loss:  0.28, dev acc: 91.47%, Time: 0:03:49 \n",
            "Iter:    600, Train loss:  0.17, Train acc: 93.75%, dev loss:  0.28, dev acc: 91.44%, Time: 0:03:54 \n",
            "Iter:    700, Train loss:  0.12, Train acc: 97.66%, dev loss:  0.27, dev acc: 91.33%, Time: 0:03:59 \n",
            "Iter:    800, Train loss:  0.17, Train acc: 93.75%, dev loss:  0.27, dev acc: 91.67%, Time: 0:04:04 *\n",
            "Iter:    900, Train loss:  0.14, Train acc: 94.53%, dev loss:  0.27, dev acc: 91.73%, Time: 0:04:09 *\n",
            "Iter:   1000, Train loss: 0.099, Train acc: 96.09%, dev loss:  0.26, dev acc: 91.75%, Time: 0:04:14 *\n",
            "Iter:   1100, Train loss:  0.13, Train acc: 96.09%, dev loss:  0.28, dev acc: 91.34%, Time: 0:04:19 \n",
            "Iter:   1200, Train loss:  0.12, Train acc: 94.53%, dev loss:  0.26, dev acc: 91.82%, Time: 0:04:24 *\n",
            "Iter:   1300, Train loss:  0.13, Train acc: 94.53%, dev loss:  0.27, dev acc: 91.58%, Time: 0:04:29 \n",
            "Iter:   1400, Train loss:  0.16, Train acc: 96.09%, dev loss:  0.26, dev acc: 91.67%, Time: 0:04:34 \n",
            "Epoch [5/40]\n",
            "Iter:    100, Train loss: 0.057, Train acc: 97.66%, dev loss:  0.28, dev acc: 91.83%, Time: 0:04:39 *\n",
            "Iter:    200, Train loss:  0.11, Train acc: 95.31%, dev loss:  0.28, dev acc: 92.05%, Time: 0:04:44 *\n",
            "Iter:    300, Train loss:  0.18, Train acc: 92.97%, dev loss:   0.3, dev acc: 91.44%, Time: 0:04:49 \n",
            "Iter:    400, Train loss: 0.074, Train acc: 98.44%, dev loss:  0.27, dev acc: 91.85%, Time: 0:04:54 \n",
            "Iter:    500, Train loss:  0.12, Train acc: 96.09%, dev loss:  0.28, dev acc: 91.48%, Time: 0:04:59 \n",
            "Iter:    600, Train loss:  0.12, Train acc: 96.09%, dev loss:  0.28, dev acc: 91.69%, Time: 0:05:04 \n",
            "Iter:    700, Train loss:  0.13, Train acc: 94.53%, dev loss:  0.28, dev acc: 91.80%, Time: 0:05:09 \n",
            "Iter:    800, Train loss:  0.17, Train acc: 92.97%, dev loss:  0.27, dev acc: 91.76%, Time: 0:05:14 \n",
            "Iter:    900, Train loss:  0.23, Train acc: 90.62%, dev loss:  0.28, dev acc: 91.81%, Time: 0:05:19 \n",
            "Iter:   1000, Train loss:  0.11, Train acc: 97.66%, dev loss:  0.28, dev acc: 92.05%, Time: 0:05:23 \n",
            "Iter:   1100, Train loss:  0.18, Train acc: 93.75%, dev loss:  0.28, dev acc: 91.74%, Time: 0:05:28 \n",
            "Iter:   1200, Train loss: 0.092, Train acc: 95.31%, dev loss:  0.28, dev acc: 91.86%, Time: 0:05:33 \n",
            "Iter:   1300, Train loss:  0.15, Train acc: 93.75%, dev loss:  0.28, dev acc: 91.70%, Time: 0:05:38 \n",
            "Iter:   1400, Train loss:   0.2, Train acc: 94.53%, dev loss:  0.27, dev acc: 91.81%, Time: 0:05:43 \n",
            "Epoch [6/40]\n",
            "Iter:    100, Train loss: 0.047, Train acc: 99.22%, dev loss:  0.29, dev acc: 91.74%, Time: 0:05:48 \n",
            "Iter:    200, Train loss:  0.14, Train acc: 95.31%, dev loss:   0.3, dev acc: 91.80%, Time: 0:05:53 \n",
            "Iter:    300, Train loss: 0.081, Train acc: 98.44%, dev loss:  0.29, dev acc: 91.98%, Time: 0:05:58 \n",
            "Iter:    400, Train loss:  0.17, Train acc: 96.09%, dev loss:   0.3, dev acc: 91.95%, Time: 0:06:03 \n",
            "Iter:    500, Train loss: 0.086, Train acc: 96.88%, dev loss:  0.29, dev acc: 91.91%, Time: 0:06:08 \n",
            "Iter:    600, Train loss: 0.079, Train acc: 97.66%, dev loss:   0.3, dev acc: 91.74%, Time: 0:06:13 \n",
            "Iter:    700, Train loss:  0.11, Train acc: 96.88%, dev loss:   0.3, dev acc: 91.78%, Time: 0:06:17 \n",
            "Iter:    800, Train loss: 0.097, Train acc: 96.88%, dev loss:   0.3, dev acc: 91.75%, Time: 0:06:22 \n",
            "Iter:    900, Train loss:  0.18, Train acc: 92.97%, dev loss:   0.3, dev acc: 92.01%, Time: 0:06:27 \n",
            "Iter:   1000, Train loss:  0.12, Train acc: 96.09%, dev loss:   0.3, dev acc: 91.86%, Time: 0:06:32 \n",
            "Iter:   1100, Train loss: 0.099, Train acc: 96.09%, dev loss:   0.3, dev acc: 91.91%, Time: 0:06:37 \n",
            "Iter:   1200, Train loss: 0.081, Train acc: 97.66%, dev loss:   0.3, dev acc: 91.84%, Time: 0:06:42 \n",
            "Iter:   1300, Train loss: 0.061, Train acc: 97.66%, dev loss:  0.29, dev acc: 91.82%, Time: 0:06:47 \n",
            "Iter:   1400, Train loss:  0.13, Train acc: 94.53%, dev loss:  0.31, dev acc: 91.71%, Time: 0:06:52 \n",
            "No optimization for 1 epoch, auto-stopping...\n",
            "Best model at epoch 5, dev acc: 92.05%, \n",
            "Test loss:  0.28, Test acc: 91.85%\n",
            "Precision, Recall and F1-Score:\n",
            "               precision    recall  f1-score   support\n",
            "\n",
            "      finance     0.9102    0.9120    0.9111      1000\n",
            "       realty     0.9249    0.9360    0.9304      1000\n",
            "       stocks     0.8664    0.8430    0.8545      1000\n",
            "    education     0.9466    0.9580    0.9523      1000\n",
            "      science     0.8898    0.8480    0.8684      1000\n",
            "      society     0.9170    0.9280    0.9225      1000\n",
            "     politics     0.8994    0.8850    0.8921      1000\n",
            "       sports     0.9848    0.9700    0.9773      1000\n",
            "         game     0.9347    0.9450    0.9398      1000\n",
            "entertainment     0.9091    0.9600    0.9339      1000\n",
            "\n",
            "     accuracy                         0.9185     10000\n",
            "    macro avg     0.9183    0.9185    0.9182     10000\n",
            " weighted avg     0.9183    0.9185    0.9182     10000\n",
            "\n",
            "Confusion Matrix:\n",
            "[[912  20  39   6   7   2   6   2   2   4]\n",
            " [  9 936  17   1   5  10   7   3   4   8]\n",
            " [ 56  19 843   1  32   3  33   1   6   6]\n",
            " [  1   2   2 958   3  14   4   1   2  13]\n",
            " [  9   7  36   9 848  16  17   2  36  20]\n",
            " [  2  14   1  12   5 928  20   0   4  14]\n",
            " [  9   4  28  17  18  26 885   1   3   9]\n",
            " [  1   1   2   1   3   3   6 970   0  13]\n",
            " [  0   2   5   3  24   6   4   2 945   9]\n",
            " [  3   7   0   4   8   4   2   3   9 960]]\n",
            "Time usage: 0:06:53\n"
          ],
          "name": "stdout"
        }
      ]
    },
    {
      "cell_type": "code",
      "metadata": {
        "id": "hfggRbUwztN8"
      },
      "source": [
        ""
      ],
      "execution_count": null,
      "outputs": []
    }
  ]
}